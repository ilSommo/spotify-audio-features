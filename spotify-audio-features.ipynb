{
 "cells": [
  {
   "cell_type": "code",
   "execution_count": null,
   "id": "89d6e464",
   "metadata": {},
   "outputs": [],
   "source": [
    "import pandas as pd\n",
    "from pgmpy.inference import VariableElimination\n",
    "from pgmpy.models import BayesianModel\n",
    "from pgmpy.sampling import BayesianModelSampling\n",
    "import functions"
   ]
  },
  {
   "cell_type": "code",
   "execution_count": null,
   "id": "876699d2",
   "metadata": {},
   "outputs": [],
   "source": [
    "BINS = 4"
   ]
  },
  {
   "cell_type": "code",
   "execution_count": null,
   "id": "242bd9b6",
   "metadata": {},
   "outputs": [],
   "source": [
    "df = pd.read_csv(\"complete_project_data.csv\", sep = ',')\n",
    "\n",
    "df = df.rename(columns={'Label': 'Chart'})\n",
    "\n",
    "for label in ['Artist', 'Track', 'Month', 'Key', 'Mode']:\n",
    "    del df[label]\n",
    "\n",
    "for label in ['Danceability', 'Valence', 'Acousticness', 'Loudness', 'Instrumentalness', 'Year', 'Energy', 'Tempo', 'Liveness', 'Speechiness']:\n",
    "    df[label]=pd.cut(df[label], BINS, labels=range(BINS))"
   ]
  },
  {
   "cell_type": "code",
   "execution_count": null,
   "id": "521b7da2",
   "metadata": {},
   "outputs": [],
   "source": [
    "model = BayesianModel([('Danceability', 'Valence'),\n",
    "                       ('Acousticness', 'Loudness'),\n",
    "                       ('Instrumentalness', 'Loudness'),\n",
    "                       ('Year', 'Loudness'),\n",
    "                       ('Energy', 'Valence'),\n",
    "                       ('Tempo', 'Energy'),\n",
    "                       ('Liveness', 'Energy'),\n",
    "                       ('Liveness', 'Speechiness'),\n",
    "                       ('Loudness', 'Energy'),\n",
    "                       ('Loudness', 'Chart'),\n",
    "                       ('Speechiness', 'Danceability'),\n",
    "                       ('Danceability', 'Chart'),\n",
    "                       ('ArtistScore', 'Chart'),\n",
    "                      ])\n",
    "\n",
    "model.fit(df)\n",
    "\n",
    "if not model.check_model():\n",
    "    print(\"Incorrect model!\")"
   ]
  },
  {
   "cell_type": "code",
   "execution_count": null,
   "id": "c26bb3c3",
   "metadata": {},
   "outputs": [],
   "source": [
    "exact_inference = VariableElimination(model)\n",
    "approximate_inference = BayesianModelSampling(model)"
   ]
  },
  {
   "cell_type": "code",
   "execution_count": null,
   "id": "ec09668e",
   "metadata": {
    "scrolled": true
   },
   "outputs": [],
   "source": [
    "print(model.get_cpds('Danceability'))"
   ]
  },
  {
   "cell_type": "code",
   "execution_count": null,
   "id": "d1859c85",
   "metadata": {},
   "outputs": [],
   "source": [
    "functions.exact(exact_inference, 'Danceability', {'Chart': 1})"
   ]
  },
  {
   "cell_type": "code",
   "execution_count": null,
   "id": "44f61820",
   "metadata": {},
   "outputs": [],
   "source": [
    "functions.likelihood_weighted(approximate_inference, 'Danceability', {'Chart': 1})"
   ]
  },
  {
   "cell_type": "code",
   "execution_count": null,
   "id": "6bf7ee60",
   "metadata": {},
   "outputs": [],
   "source": [
    "functions.rejection(approximate_inference, 'Danceability', {'Chart': 1})"
   ]
  }
 ],
 "metadata": {
  "kernelspec": {
   "display_name": "Python 3",
   "language": "python",
   "name": "python3"
  },
  "language_info": {
   "codemirror_mode": {
    "name": "ipython",
    "version": 3
   },
   "file_extension": ".py",
   "mimetype": "text/x-python",
   "name": "python",
   "nbconvert_exporter": "python",
   "pygments_lexer": "ipython3",
   "version": "3.9.0"
  }
 },
 "nbformat": 4,
 "nbformat_minor": 5
}
