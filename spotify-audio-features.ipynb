{
 "cells": [
  {
   "cell_type": "code",
   "execution_count": null,
   "id": "cba60afa",
   "metadata": {},
   "outputs": [],
   "source": [
    "__version__ = '1.0.0-beta.1'\n",
    "__author__ = 'Martino Pulici'"
   ]
  },
  {
   "cell_type": "code",
   "execution_count": null,
   "id": "89d6e464",
   "metadata": {},
   "outputs": [],
   "source": [
    "import pandas as pd\n",
    "from pgmpy.inference import VariableElimination\n",
    "from pgmpy.models import BayesianModel\n",
    "from pgmpy.sampling import BayesianModelSampling\n",
    "\n",
    "import functions"
   ]
  },
  {
   "cell_type": "code",
   "execution_count": null,
   "id": "876699d2",
   "metadata": {},
   "outputs": [],
   "source": [
    "BINS = 4"
   ]
  },
  {
   "cell_type": "code",
   "execution_count": null,
   "id": "242bd9b6",
   "metadata": {},
   "outputs": [],
   "source": [
    "df = pd.read_csv(\"georgieva_suta_burton_data.csv\", sep=',')\n",
    "df = df.rename(columns={'Label': 'Chart'})\n",
    "\n",
    "for label in ['Artist', 'Track', 'Month', 'Key', 'Mode']:\n",
    "    del df[label]\n",
    "    \n",
    "for label in [\n",
    "    'Danceability',\n",
    "    'Valence',\n",
    "    'Acousticness',\n",
    "    'Loudness',\n",
    "    'Instrumentalness',\n",
    "    'Year',\n",
    "    'Energy',\n",
    "    'Tempo',\n",
    "    'Liveness',\n",
    "        'Speechiness']:\n",
    "    df[label] = pd.cut(df[label], BINS, labels=range(BINS))"
   ]
  },
  {
   "cell_type": "code",
   "execution_count": null,
   "id": "521b7da2",
   "metadata": {},
   "outputs": [],
   "source": [
    "model = BayesianModel([('Danceability', 'Valence'),\n",
    "                       ('Acousticness', 'Loudness'),\n",
    "                       ('Instrumentalness', 'Loudness'),\n",
    "                       ('Year', 'Loudness'),\n",
    "                       ('Energy', 'Valence'),\n",
    "                       ('Tempo', 'Energy'),\n",
    "                       ('Liveness', 'Energy'),\n",
    "                       ('Liveness', 'Speechiness'),\n",
    "                       ('Loudness', 'Energy'),\n",
    "                       ('Loudness', 'Chart'),\n",
    "                       ('Speechiness', 'Danceability'),\n",
    "                       ('Danceability', 'Chart'),\n",
    "                       ('ArtistScore', 'Chart'),\n",
    "                       ])\n",
    "model.fit(df)\n",
    "\n",
    "if not model.check_model():\n",
    "    print(\"Incorrect model!\")"
   ]
  },
  {
   "cell_type": "code",
   "execution_count": null,
   "id": "6e8afce7",
   "metadata": {},
   "outputs": [],
   "source": [
    "cpd = model.get_cpds('Danceability')\n",
    "print(cpd)"
   ]
  },
  {
   "cell_type": "code",
   "execution_count": null,
   "id": "ce713137",
   "metadata": {},
   "outputs": [],
   "source": [
    "print(model.is_active_trail('Danceability', 'Energy'))\n",
    "print(model.is_active_trail('Danceability', 'Energy', observed='Speechiness'))"
   ]
  },
  {
   "cell_type": "code",
   "execution_count": null,
   "id": "39595eef",
   "metadata": {},
   "outputs": [],
   "source": [
    "print(model.get_markov_blanket('Danceability'))"
   ]
  },
  {
   "cell_type": "code",
   "execution_count": null,
   "id": "1e6a5535",
   "metadata": {},
   "outputs": [],
   "source": [
    "print(model.is_active_trail('Danceability', 'Liveness'))\n",
    "print(model.is_active_trail('Danceability', 'Liveness', observed=model.get_markov_blanket('Danceability')))"
   ]
  },
  {
   "cell_type": "code",
   "execution_count": null,
   "id": "c26bb3c3",
   "metadata": {},
   "outputs": [],
   "source": [
    "exact_inference = VariableElimination(model)\n",
    "approximate_inference = BayesianModelSampling(model)"
   ]
  },
  {
   "cell_type": "code",
   "execution_count": null,
   "id": "cf6acefa",
   "metadata": {},
   "outputs": [],
   "source": [
    "VARIABLE = 'Valence'\n",
    "EVIDENCE_1 = {'Chart': 1}\n",
    "EVIDENCE_2 = {'Chart': 0}"
   ]
  },
  {
   "cell_type": "code",
   "execution_count": null,
   "id": "d1859c85",
   "metadata": {},
   "outputs": [],
   "source": [
    "functions.exact(exact_inference, VARIABLE, EVIDENCE_1)"
   ]
  },
  {
   "cell_type": "code",
   "execution_count": null,
   "id": "e6d00bd9",
   "metadata": {},
   "outputs": [],
   "source": [
    "functions.rejection(approximate_inference, VARIABLE, EVIDENCE_1)"
   ]
  },
  {
   "cell_type": "code",
   "execution_count": null,
   "id": "44f61820",
   "metadata": {},
   "outputs": [],
   "source": [
    "functions.weighted(approximate_inference, VARIABLE, EVIDENCE_1)"
   ]
  },
  {
   "cell_type": "code",
   "execution_count": null,
   "id": "1fb2d1a7",
   "metadata": {},
   "outputs": [],
   "source": [
    "functions.exact(exact_inference, VARIABLE, EVIDENCE_2)"
   ]
  },
  {
   "cell_type": "code",
   "execution_count": null,
   "id": "33f3fbeb",
   "metadata": {
    "scrolled": true
   },
   "outputs": [],
   "source": [
    "sizes, exact_results, rejection_results, weighted_results = functions.graph_points(\n",
    "    exact_inference, approximate_inference, VARIABLE, EVIDENCE_1)"
   ]
  },
  {
   "cell_type": "code",
   "execution_count": null,
   "id": "b74f2120",
   "metadata": {},
   "outputs": [],
   "source": [
    "functions.graph(\n",
    "    sizes,\n",
    "    exact_results,\n",
    "    rejection_results,\n",
    "    weighted_results,\n",
    "    VARIABLE,\n",
    "    EVIDENCE_1)"
   ]
  },
  {
   "cell_type": "code",
   "execution_count": null,
   "id": "37e70717",
   "metadata": {},
   "outputs": [],
   "source": [
    "functions.diff_graph(\n",
    "    sizes,\n",
    "    exact_results,\n",
    "    rejection_results,\n",
    "    weighted_results,\n",
    "    VARIABLE,\n",
    "    EVIDENCE_1)"
   ]
  }
 ],
 "metadata": {
  "kernelspec": {
   "display_name": "Python 3",
   "language": "python",
   "name": "python3"
  },
  "language_info": {
   "codemirror_mode": {
    "name": "ipython",
    "version": 3
   },
   "file_extension": ".py",
   "mimetype": "text/x-python",
   "name": "python",
   "nbconvert_exporter": "python",
   "pygments_lexer": "ipython3",
   "version": "3.9.0"
  }
 },
 "nbformat": 4,
 "nbformat_minor": 5
}
