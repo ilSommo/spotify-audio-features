{
 "cells": [
  {
   "cell_type": "code",
   "execution_count": null,
   "id": "cba60afa",
   "metadata": {},
   "outputs": [],
   "source": [
    "__version__ = '1.3.1'\n",
    "__author__ = 'Martino Pulici'"
   ]
  },
  {
   "cell_type": "code",
   "execution_count": null,
   "id": "89d6e464",
   "metadata": {},
   "outputs": [],
   "source": [
    "import pandas as pd\n",
    "from pgmpy.inference import VariableElimination\n",
    "from pgmpy.models import BayesianModel\n",
    "from pgmpy.sampling import BayesianModelSampling\n",
    "\n",
    "from spotify_audio_features.functions import *"
   ]
  },
  {
   "cell_type": "code",
   "execution_count": null,
   "id": "876699d2",
   "metadata": {},
   "outputs": [],
   "source": [
    "# Number of graph bins\n",
    "BINS = 4"
   ]
  },
  {
   "cell_type": "code",
   "execution_count": null,
   "id": "242bd9b6",
   "metadata": {},
   "outputs": [],
   "source": [
    "# Data\n",
    "df = pd.read_csv('georgieva_suta_burton_data.csv', sep=',')\n",
    "df = df.rename(columns={'Label': 'Chart'})\n",
    "\n",
    "# Cycle unwanted labels\n",
    "for label in ['Artist', 'Track', 'Month', 'Key', 'Mode']:\n",
    "    # Delete data label\n",
    "    del df[label]\n",
    "    \n",
    "# Cycle labels\n",
    "for label in [\n",
    "    'Danceability',\n",
    "    'Valence',\n",
    "    'Acousticness',\n",
    "    'Loudness',\n",
    "    'Instrumentalness',\n",
    "    'Year',\n",
    "    'Energy',\n",
    "    'Tempo',\n",
    "    'Liveness',\n",
    "        'Speechiness']:\n",
    "    # Create bins\n",
    "    df[label] = pd.cut(df[label], BINS, labels=range(BINS))"
   ]
  },
  {
   "cell_type": "code",
   "execution_count": null,
   "id": "521b7da2",
   "metadata": {},
   "outputs": [],
   "source": [
    "# Create Bayesian model\n",
    "model = BayesianModel([('Danceability', 'Valence'),\n",
    "                       ('Acousticness', 'Loudness'),\n",
    "                       ('Instrumentalness', 'Loudness'),\n",
    "                       ('Year', 'Loudness'),\n",
    "                       ('Energy', 'Valence'),\n",
    "                       ('Tempo', 'Energy'),\n",
    "                       ('Liveness', 'Energy'),\n",
    "                       ('Liveness', 'Speechiness'),\n",
    "                       ('Loudness', 'Energy'),\n",
    "                       ('Loudness', 'Chart'),\n",
    "                       ('Speechiness', 'Danceability'),\n",
    "                       ('Danceability', 'Chart'),\n",
    "                       ('ArtistScore', 'Chart'),\n",
    "                       ])\n",
    "\n",
    "# Fit data to model\n",
    "model.fit(df)\n",
    "\n",
    "# Enter if model is incorrect\n",
    "if not model.check_model():\n",
    "    print(\"Incorrect model!\")"
   ]
  },
  {
   "cell_type": "code",
   "execution_count": null,
   "id": "6e8afce7",
   "metadata": {},
   "outputs": [],
   "source": [
    "# Create CPD\n",
    "cpd = model.get_cpds('Danceability')\n",
    "print(cpd)"
   ]
  },
  {
   "cell_type": "code",
   "execution_count": null,
   "id": "ce713137",
   "metadata": {},
   "outputs": [],
   "source": [
    "# Check active trails\n",
    "print(model.is_active_trail('Danceability', 'Energy'))\n",
    "print(model.is_active_trail('Danceability', 'Energy', observed='Speechiness'))"
   ]
  },
  {
   "cell_type": "code",
   "execution_count": null,
   "id": "39595eef",
   "metadata": {},
   "outputs": [],
   "source": [
    "# Get markov blanket\n",
    "print(model.get_markov_blanket('Danceability'))"
   ]
  },
  {
   "cell_type": "code",
   "execution_count": null,
   "id": "1e6a5535",
   "metadata": {},
   "outputs": [],
   "source": [
    "# Check active trails with markov blanket\n",
    "print(model.is_active_trail('Danceability', 'Liveness'))\n",
    "print(model.is_active_trail('Danceability', 'Liveness', observed=model.get_markov_blanket('Danceability')))"
   ]
  },
  {
   "cell_type": "code",
   "execution_count": null,
   "id": "636361ba",
   "metadata": {},
   "outputs": [],
   "source": [
    "# Create exact inference using variable elimination\n",
    "exact_inference = VariableElimination(model)\n",
    "# Create approximate inference using bayesian model\n",
    "approximate_inference = BayesianModelSampling(model)"
   ]
  },
  {
   "cell_type": "code",
   "execution_count": null,
   "id": "0d94704e",
   "metadata": {},
   "outputs": [],
   "source": [
    "# ArtistScore influence on Chart\n",
    "exact(exact_inference, 'Chart', {'ArtistScore':0})\n",
    "exact(exact_inference, 'Chart', {'ArtistScore':1})"
   ]
  },
  {
   "cell_type": "code",
   "execution_count": null,
   "id": "61d91574",
   "metadata": {},
   "outputs": [],
   "source": [
    "# Loudness influence on Chart\n",
    "exact(exact_inference, 'Chart', {'Loudness':0})\n",
    "exact(exact_inference, 'Chart', {'Loudness':1})\n",
    "exact(exact_inference, 'Chart', {'Loudness':2})\n",
    "exact(exact_inference, 'Chart', {'Loudness':3})"
   ]
  },
  {
   "cell_type": "code",
   "execution_count": null,
   "id": "9cc20334",
   "metadata": {},
   "outputs": [],
   "source": [
    "# Loudness influence on Energy\n",
    "exact(exact_inference, 'Energy', {'Loudness':0})\n",
    "exact(exact_inference, 'Energy', {'Loudness':1})\n",
    "exact(exact_inference, 'Energy', {'Loudness':2})\n",
    "exact(exact_inference, 'Energy', {'Loudness':3})"
   ]
  },
  {
   "cell_type": "code",
   "execution_count": null,
   "id": "93478b6a",
   "metadata": {},
   "outputs": [],
   "source": [
    "# Inference example\n",
    "exact(exact_inference, 'Chart', {'ArtistScore':1,'Danceability':3,'Loudness':3})\n",
    "exact(exact_inference, 'Chart', {'ArtistScore':0,'Danceability':0,'Loudness':0})"
   ]
  },
  {
   "cell_type": "code",
   "execution_count": null,
   "id": "cf6acefa",
   "metadata": {},
   "outputs": [],
   "source": [
    "# Variable and evidence for graphs\n",
    "VARIABLE = 'Valence'\n",
    "EVIDENCE_1 = {'Chart': 1}\n",
    "EVIDENCE_2 = {'Chart': 0}"
   ]
  },
  {
   "cell_type": "code",
   "execution_count": null,
   "id": "d1859c85",
   "metadata": {},
   "outputs": [],
   "source": [
    "# Exact inference\n",
    "exact(exact_inference, VARIABLE, EVIDENCE_1)"
   ]
  },
  {
   "cell_type": "code",
   "execution_count": null,
   "id": "e6d00bd9",
   "metadata": {},
   "outputs": [],
   "source": [
    "# Rejection sampling inference\n",
    "rejection(approximate_inference, VARIABLE, EVIDENCE_1)"
   ]
  },
  {
   "cell_type": "code",
   "execution_count": null,
   "id": "44f61820",
   "metadata": {},
   "outputs": [],
   "source": [
    "# Likelihood weighted inference\n",
    "weighted(approximate_inference, VARIABLE, EVIDENCE_1)"
   ]
  },
  {
   "cell_type": "code",
   "execution_count": null,
   "id": "1fb2d1a7",
   "metadata": {},
   "outputs": [],
   "source": [
    "# Exact inference with different evidence\n",
    "exact(exact_inference, VARIABLE, EVIDENCE_2)"
   ]
  },
  {
   "cell_type": "code",
   "execution_count": null,
   "id": "33f3fbeb",
   "metadata": {
    "scrolled": true
   },
   "outputs": [],
   "source": [
    "# Create graph points\n",
    "sizes, exact_results, rejection_results, weighted_results = graph_points(\n",
    "    exact_inference, approximate_inference, VARIABLE, EVIDENCE_1)"
   ]
  },
  {
   "cell_type": "code",
   "execution_count": null,
   "id": "b74f2120",
   "metadata": {},
   "outputs": [],
   "source": [
    "# Plot graph\n",
    "graph(\n",
    "    sizes,\n",
    "    exact_results,\n",
    "    rejection_results,\n",
    "    weighted_results,\n",
    "    VARIABLE,\n",
    "    EVIDENCE_1)"
   ]
  },
  {
   "cell_type": "code",
   "execution_count": null,
   "id": "37e70717",
   "metadata": {},
   "outputs": [],
   "source": [
    "# Plot differences graph\n",
    "diff_graph(\n",
    "    sizes,\n",
    "    exact_results,\n",
    "    rejection_results,\n",
    "    weighted_results,\n",
    "    VARIABLE,\n",
    "    EVIDENCE_1)"
   ]
  }
 ],
 "metadata": {
  "kernelspec": {
   "display_name": "Python 3 (ipykernel)",
   "language": "python",
   "name": "python3"
  },
  "language_info": {
   "codemirror_mode": {
    "name": "ipython",
    "version": 3
   },
   "file_extension": ".py",
   "mimetype": "text/x-python",
   "name": "python",
   "nbconvert_exporter": "python",
   "pygments_lexer": "ipython3",
   "version": "3.9.6"
  }
 },
 "nbformat": 4,
 "nbformat_minor": 5
}
