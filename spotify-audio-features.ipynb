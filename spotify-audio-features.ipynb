{
 "cells": [
  {
   "cell_type": "code",
   "execution_count": null,
   "id": "89d6e464",
   "metadata": {},
   "outputs": [],
   "source": [
    "import numpy as np\n",
    "import pandas as pd\n",
    "from pgmpy.models import BayesianModel\n",
    "from pgmpy.factors.discrete import TabularCPD\n",
    "from pgmpy.inference import VariableElimination"
   ]
  },
  {
   "cell_type": "code",
   "execution_count": null,
   "id": "242bd9b6",
   "metadata": {},
   "outputs": [],
   "source": [
    "df = pd.read_csv('complete_project_data.csv', sep = ',')\n",
    "df = df.rename(columns={'Label': 'Chart'})\n",
    "del df['Artist']\n",
    "del df['Track']\n",
    "del df['Month']\n",
    "del df['Key']\n",
    "del df['Mode']\n",
    "for label in ['Danceability','Valence','Acousticness','Loudness','Instrumentalness','Year','Energy','Tempo','Liveness','Speechiness']:\n",
    "    df[label]=pd.cut(df[label], 3, labels=range(3))"
   ]
  },
  {
   "cell_type": "code",
   "execution_count": null,
   "id": "521b7da2",
   "metadata": {},
   "outputs": [],
   "source": [
    "model = BayesianModel([('Danceability', 'Valence'),\n",
    "                       ('Acousticness', 'Loudness'),\n",
    "                       ('Instrumentalness', 'Loudness'),\n",
    "                       ('Year', 'Loudness'),\n",
    "                       ('Energy', 'Valence'),\n",
    "                       ('Tempo', 'Energy'),\n",
    "                       ('Liveness', 'Energy'),\n",
    "                       ('Liveness', 'Speechiness'),\n",
    "                       ('Loudness', 'Energy'),\n",
    "                       ('Loudness', 'Chart'),\n",
    "                       ('Speechiness', 'Danceability'),\n",
    "                       ('Danceability', 'Chart'),\n",
    "                       ('ArtistScore', 'Chart'),\n",
    "                      ])\n",
    "\n",
    "model.fit(df)\n",
    "model.check_model()"
   ]
  },
  {
   "cell_type": "code",
   "execution_count": null,
   "id": "b536e88b",
   "metadata": {
    "scrolled": true
   },
   "outputs": [],
   "source": [
    "for cpd in model.get_cpds():\n",
    "    print(cpd)"
   ]
  },
  {
   "cell_type": "code",
   "execution_count": null,
   "id": "c26bb3c3",
   "metadata": {},
   "outputs": [],
   "source": [
    "inference = VariableElimination(model)"
   ]
  },
  {
   "cell_type": "code",
   "execution_count": null,
   "id": "d1859c85",
   "metadata": {},
   "outputs": [],
   "source": [
    "print('P(Valence)')\n",
    "print(inference.query(['Valence'],show_progress=False))"
   ]
  },
  {
   "cell_type": "code",
   "execution_count": null,
   "id": "97279132",
   "metadata": {},
   "outputs": [],
   "source": [
    "print('P(Valence|Chart=1)')\n",
    "print(inference.query(['Valence'],{'Chart':1},show_progress=False))"
   ]
  }
 ],
 "metadata": {
  "kernelspec": {
   "display_name": "Python 3",
   "language": "python",
   "name": "python3"
  },
  "language_info": {
   "codemirror_mode": {
    "name": "ipython",
    "version": 3
   },
   "file_extension": ".py",
   "mimetype": "text/x-python",
   "name": "python",
   "nbconvert_exporter": "python",
   "pygments_lexer": "ipython3",
   "version": "3.9.0"
  }
 },
 "nbformat": 4,
 "nbformat_minor": 5
}
